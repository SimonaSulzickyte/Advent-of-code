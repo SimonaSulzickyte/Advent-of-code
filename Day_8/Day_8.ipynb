{
 "cells": [
  {
   "cell_type": "code",
   "execution_count": 31,
   "metadata": {},
   "outputs": [],
   "source": [
    "import pandas as pd\n",
    "import numpy as np"
   ]
  },
  {
   "cell_type": "markdown",
   "metadata": {},
   "source": [
    "Part one"
   ]
  },
  {
   "cell_type": "code",
   "execution_count": 80,
   "metadata": {},
   "outputs": [],
   "source": [
    "df = pd.read_excel(\"input_1.xlsx\")\n",
    "path = open('input_2.txt', 'r').read()"
   ]
  },
  {
   "cell_type": "code",
   "execution_count": 81,
   "metadata": {},
   "outputs": [],
   "source": [
    "position = 'AAA'\n",
    "step = 0\n",
    "path_number = 0\n",
    "path_length = len(path)\n",
    "while position != 'ZZZ':\n",
    "    direction = path[path_number]\n",
    "    if direction == 'L':\n",
    "        position = df[df[\"Beginning\"] == position][\"Left\"].values[0]\n",
    "    else:\n",
    "        position = df[df[\"Beginning\"] == position][\"Right\"].values[0]\n",
    "    step += 1\n",
    "    path_number += 1\n",
    "    if path_number == path_length:\n",
    "        path_number = 0"
   ]
  },
  {
   "cell_type": "markdown",
   "metadata": {},
   "source": [
    "Part two"
   ]
  },
  {
   "cell_type": "code",
   "execution_count": 40,
   "metadata": {},
   "outputs": [],
   "source": [
    "df = pd.read_excel(\"input_1.xlsx\")\n",
    "path = open('input_2.txt', 'r').read()"
   ]
  },
  {
   "cell_type": "code",
   "execution_count": 41,
   "metadata": {},
   "outputs": [],
   "source": [
    "path_length = len(path)\n",
    "df_ends_A = df[df[\"Beginning\"].str.endswith('A')]\n",
    "beginnings = df_ends_A[\"Beginning\"].values\n",
    "df_destinations = pd.DataFrame(columns=['starting_node', 'z_node', 'path_number', 'steps'])\n",
    "for index in range(len(beginnings)):\n",
    "    step = 0\n",
    "    path_number = 0\n",
    "    continue_check = 1\n",
    "    period = False\n",
    "    position = beginnings[index]\n",
    "    while period == False:  \n",
    "        direction = path[path_number]     \n",
    "        if direction == 'L':\n",
    "            position = df[df[\"Beginning\"] == position][\"Left\"].values[0]\n",
    "        else:\n",
    "            position = df[df[\"Beginning\"] == position][\"Right\"].values[0]\n",
    "        step += 1\n",
    "        path_number += 1\n",
    "        if position[2] == \"Z\":\n",
    "            new_row = pd.DataFrame({'starting_node': [beginnings[index]],\n",
    "                            'z_node': [position],\n",
    "                            'path_number': [path_number],\n",
    "                            'steps': [step]})\n",
    "            df_destinations = pd.concat([df_destinations, new_row], ignore_index=True)\n",
    "            period = (df_destinations[df_destinations['starting_node'] == beginnings[index]]\n",
    "                      .groupby(['starting_node', 'z_node', 'path_number'])\n",
    "                      .size()\n",
    "                      .max() == 2)\n",
    "        if path_number == path_length:\n",
    "            path_number = 0\n",
    "        "
   ]
  },
  {
   "cell_type": "code",
   "execution_count": 42,
   "metadata": {},
   "outputs": [],
   "source": [
    "minimum_steps = df_destinations.loc[df_destinations.groupby('starting_node')['steps'].idxmin()].copy()"
   ]
  },
  {
   "cell_type": "code",
   "execution_count": null,
   "metadata": {},
   "outputs": [],
   "source": [
    "np.lcm.reduce(minimum_steps[\"steps\"])"
   ]
  }
 ],
 "metadata": {
  "kernelspec": {
   "display_name": "myenv",
   "language": "python",
   "name": "python3"
  },
  "language_info": {
   "codemirror_mode": {
    "name": "ipython",
    "version": 3
   },
   "file_extension": ".py",
   "mimetype": "text/x-python",
   "name": "python",
   "nbconvert_exporter": "python",
   "pygments_lexer": "ipython3",
   "version": "3.10.7"
  }
 },
 "nbformat": 4,
 "nbformat_minor": 2
}
