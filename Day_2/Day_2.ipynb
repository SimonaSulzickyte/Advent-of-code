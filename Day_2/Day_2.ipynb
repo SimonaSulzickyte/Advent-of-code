{
 "cells": [
  {
   "cell_type": "code",
   "execution_count": 3,
   "metadata": {},
   "outputs": [],
   "source": [
    "import pandas as pd\n",
    "import re"
   ]
  },
  {
   "cell_type": "markdown",
   "metadata": {},
   "source": [
    "Part one"
   ]
  },
  {
   "cell_type": "code",
   "execution_count": 33,
   "metadata": {},
   "outputs": [],
   "source": [
    "df = pd.read_excel(\"input_1.xlsx\")\n",
    "red_cubes = 12\n",
    "green_cubes = 13\n",
    "blue_cubes = 14"
   ]
  },
  {
   "cell_type": "code",
   "execution_count": 34,
   "metadata": {},
   "outputs": [],
   "source": [
    "game_pattern = r\"Game (\\d+):\"\n",
    "cubes_pattern = r\":\\s*(.*)\"\n",
    "\n",
    "def extract_game_number(string):\n",
    "    number = re.search(game_pattern, string).group(1)\n",
    "    return(int(number))\n",
    "\n",
    "def extract_revealed_cubes(string):\n",
    "    cubes = re.search(cubes_pattern, string).group(1)\n",
    "    return(cubes)"
   ]
  },
  {
   "cell_type": "code",
   "execution_count": 35,
   "metadata": {},
   "outputs": [],
   "source": [
    "df[\"game_number\"] = df[\"result\"].apply(lambda x: extract_game_number(x))\n",
    "df[\"revealed_cubes\"] = df[\"result\"].apply(lambda x: extract_revealed_cubes(x))"
   ]
  },
  {
   "cell_type": "code",
   "execution_count": 62,
   "metadata": {},
   "outputs": [],
   "source": [
    "total = 0\n",
    "for index, row in df.iterrows():\n",
    "    skip_game = 0\n",
    "    revealed_cubes = row[\"revealed_cubes\"]\n",
    "    semicolon_split = revealed_cubes.split('; ')\n",
    "    comma_split = [part.split(', ') for part in semicolon_split]\n",
    "    all_splits = [item for sublist in comma_split for item in sublist]\n",
    "    for set in all_splits:\n",
    "        number = int(re.search(r'\\d+', set).group())\n",
    "        colour = re.search(r'\\s(.*)', set).group(1)\n",
    "        if colour == \"red\" and number > red_cubes:\n",
    "            skip_game = 1\n",
    "            break\n",
    "        if colour == \"green\" and number > green_cubes:\n",
    "            skip_game = 1\n",
    "            break\n",
    "        if colour == \"blue\" and number > blue_cubes:\n",
    "            skip_game = 1\n",
    "            break\n",
    "    if skip_game == 0:\n",
    "        total += row[\"game_number\"]\n"
   ]
  },
  {
   "cell_type": "code",
   "execution_count": null,
   "metadata": {},
   "outputs": [],
   "source": [
    "total"
   ]
  },
  {
   "cell_type": "markdown",
   "metadata": {},
   "source": [
    "Part two"
   ]
  },
  {
   "cell_type": "code",
   "execution_count": 64,
   "metadata": {},
   "outputs": [],
   "source": [
    "total = 0\n",
    "for index, row in df.iterrows():\n",
    "    min_red_cubes = 0\n",
    "    min_blue_cubes = 0\n",
    "    min_green_cubes = 0\n",
    "    revealed_cubes = row[\"revealed_cubes\"]\n",
    "    semicolon_split = revealed_cubes.split('; ')\n",
    "    comma_split = [part.split(', ') for part in semicolon_split]\n",
    "    all_splits = [item for sublist in comma_split for item in sublist]\n",
    "    for set in all_splits:\n",
    "        number = int(re.search(r'\\d+', set).group())\n",
    "        colour = re.search(r'\\s(.*)', set).group(1)\n",
    "        if colour == \"red\" and number > min_red_cubes:\n",
    "            min_red_cubes = number\n",
    "            continue\n",
    "        if colour == \"green\" and number > min_green_cubes:\n",
    "            min_green_cubes = number\n",
    "            continue\n",
    "        if colour == \"blue\" and number > min_blue_cubes:\n",
    "            min_blue_cubes = number\n",
    "            continue\n",
    "    total += min_red_cubes * min_blue_cubes * min_green_cubes\n"
   ]
  },
  {
   "cell_type": "code",
   "execution_count": null,
   "metadata": {},
   "outputs": [],
   "source": [
    "total"
   ]
  },
  {
   "cell_type": "code",
   "execution_count": null,
   "metadata": {},
   "outputs": [],
   "source": []
  },
  {
   "cell_type": "code",
   "execution_count": null,
   "metadata": {},
   "outputs": [],
   "source": []
  },
  {
   "cell_type": "code",
   "execution_count": null,
   "metadata": {},
   "outputs": [],
   "source": []
  },
  {
   "cell_type": "code",
   "execution_count": null,
   "metadata": {},
   "outputs": [],
   "source": []
  },
  {
   "cell_type": "code",
   "execution_count": null,
   "metadata": {},
   "outputs": [],
   "source": []
  },
  {
   "cell_type": "code",
   "execution_count": null,
   "metadata": {},
   "outputs": [],
   "source": []
  }
 ],
 "metadata": {
  "kernelspec": {
   "display_name": "myenv",
   "language": "python",
   "name": "python3"
  },
  "language_info": {
   "codemirror_mode": {
    "name": "ipython",
    "version": 3
   },
   "file_extension": ".py",
   "mimetype": "text/x-python",
   "name": "python",
   "nbconvert_exporter": "python",
   "pygments_lexer": "ipython3",
   "version": "3.10.7"
  }
 },
 "nbformat": 4,
 "nbformat_minor": 2
}
