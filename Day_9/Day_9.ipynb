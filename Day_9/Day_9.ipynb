{
 "cells": [
  {
   "cell_type": "code",
   "execution_count": 57,
   "metadata": {},
   "outputs": [],
   "source": [
    "import pandas as pd\n",
    "import numpy as np\n",
    "from io import StringIO"
   ]
  },
  {
   "cell_type": "markdown",
   "metadata": {},
   "source": [
    "Part one"
   ]
  },
  {
   "cell_type": "code",
   "execution_count": 100,
   "metadata": {},
   "outputs": [],
   "source": [
    "df = open('Input_1.txt', 'r').read()\n",
    "df = pd.read_csv(StringIO(df), header=None, names = [\"history\"])"
   ]
  },
  {
   "cell_type": "code",
   "execution_count": 72,
   "metadata": {},
   "outputs": [],
   "source": [
    "total = 0\n",
    "for index, row in df.iterrows():\n",
    "    history = df[\"history\"][index]\n",
    "    history = list(map(int, history.split()))\n",
    "    total += history[-1]\n",
    "    while np.any(history != 0):\n",
    "        history = np.diff(history)\n",
    "        total += history[-1]"
   ]
  },
  {
   "cell_type": "code",
   "execution_count": null,
   "metadata": {},
   "outputs": [],
   "source": [
    "total"
   ]
  },
  {
   "cell_type": "markdown",
   "metadata": {},
   "source": [
    "Part two"
   ]
  },
  {
   "cell_type": "code",
   "execution_count": 101,
   "metadata": {},
   "outputs": [],
   "source": [
    "total = 0\n",
    "for index, row in df.iterrows():\n",
    "    history = df[\"history\"][index]\n",
    "    history = list(map(int, history.split()))\n",
    "    beginnings = [history[0]]\n",
    "    while np.any(history != 0):\n",
    "        history = np.diff(history)\n",
    "        beginnings.append(history[0])\n",
    "    for number in range(len(beginnings) - 2, -1, -1):\n",
    "        beginnings[number] = beginnings[number] - beginnings[number + 1]\n",
    "        beginnings = beginnings[:-1]\n",
    "    total += beginnings[0]"
   ]
  },
  {
   "cell_type": "code",
   "execution_count": null,
   "metadata": {},
   "outputs": [],
   "source": [
    "total"
   ]
  }
 ],
 "metadata": {
  "kernelspec": {
   "display_name": "myenv",
   "language": "python",
   "name": "python3"
  },
  "language_info": {
   "codemirror_mode": {
    "name": "ipython",
    "version": 3
   },
   "file_extension": ".py",
   "mimetype": "text/x-python",
   "name": "python",
   "nbconvert_exporter": "python",
   "pygments_lexer": "ipython3",
   "version": "3.10.7"
  }
 },
 "nbformat": 4,
 "nbformat_minor": 2
}
