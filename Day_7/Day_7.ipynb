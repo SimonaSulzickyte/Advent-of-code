{
 "cells": [
  {
   "cell_type": "code",
   "execution_count": 2,
   "metadata": {},
   "outputs": [],
   "source": [
    "import pandas as pd\n",
    "from io import StringIO"
   ]
  },
  {
   "cell_type": "code",
   "execution_count": 3,
   "metadata": {},
   "outputs": [],
   "source": [
    "df = open('Input_1.txt', 'r').read()\n",
    "df = pd.read_csv(StringIO(df), sep=' ', header=None, names = [\"cards\", \"bid\"])\n",
    "card_order = ['A', 'K', 'Q', 'J', 'T', '9', '8', '7', '6', '5', '4', '3', '2']"
   ]
  },
  {
   "cell_type": "markdown",
   "metadata": {},
   "source": [
    "Part one"
   ]
  },
  {
   "cell_type": "code",
   "execution_count": null,
   "metadata": {},
   "outputs": [],
   "source": [
    "df"
   ]
  },
  {
   "cell_type": "code",
   "execution_count": 4,
   "metadata": {},
   "outputs": [],
   "source": [
    "def calculate_strength(string):\n",
    "    if string.count(string[0]) == len(string):\n",
    "        return(6)\n",
    "    unique_symbols = set(string)\n",
    "    if len(unique_symbols) == 2:\n",
    "        for symbol in unique_symbols:\n",
    "            if string.count(symbol) == 4:\n",
    "                return (5)\n",
    "    if len(unique_symbols) == 2:\n",
    "            if string.count(list(unique_symbols)[0]) == 3 and string.count(list(unique_symbols)[1]) == 2:\n",
    "                return (4)\n",
    "            if string.count(list(unique_symbols)[1]) == 3 and string.count(list(unique_symbols)[0]) == 2:\n",
    "                return (4)\n",
    "    if len(unique_symbols) == 3:\n",
    "        for symbol in unique_symbols:\n",
    "            if string.count(symbol) == 3:\n",
    "                return (3)\n",
    "    if len(unique_symbols) == 3:\n",
    "        return (2)\n",
    "    if len(unique_symbols) == 4:\n",
    "        return (1)\n",
    "    if len(unique_symbols) == 5:\n",
    "        return (0)\n"
   ]
  },
  {
   "cell_type": "code",
   "execution_count": null,
   "metadata": {},
   "outputs": [],
   "source": [
    "def custom_order_mapping(char):\n",
    "    return card_order.index(char[0])"
   ]
  },
  {
   "cell_type": "code",
   "execution_count": 6,
   "metadata": {},
   "outputs": [],
   "source": [
    "sort_key = lambda i: (\n",
    "    -df['strength'][i], \n",
    "    tuple(map(custom_order_mapping, df['cards'][i])) \n",
    ")\n",
    "\n",
    "df[\"strength\"] = df[\"cards\"].apply(lambda x: calculate_strength(x))\n",
    "df_sorted = df.iloc[sorted(range(len(df)), key=sort_key)]\n",
    "df_sorted_rank = df_sorted.copy()\n",
    "df_sorted_rank.loc[:, 'rank'] = range(len(df_sorted_rank), 0, -1)"
   ]
  },
  {
   "cell_type": "code",
   "execution_count": 7,
   "metadata": {},
   "outputs": [
    {
     "data": {
      "text/plain": [
       "249748283"
      ]
     },
     "execution_count": 7,
     "metadata": {},
     "output_type": "execute_result"
    }
   ],
   "source": [
    "sum(df_sorted_rank[\"rank\"] * df_sorted_rank[\"bid\"])"
   ]
  },
  {
   "cell_type": "markdown",
   "metadata": {},
   "source": [
    "Part two"
   ]
  },
  {
   "cell_type": "code",
   "execution_count": 21,
   "metadata": {},
   "outputs": [],
   "source": [
    "df = open('Input_1.txt', 'r').read()\n",
    "df = pd.read_csv(StringIO(df), sep=' ', header=None, names = [\"cards\", \"bid\"])\n",
    "card_order = ['A', 'K', 'Q', 'T', '9', '8', '7', '6', '5', '4', '3', '2', 'J']"
   ]
  },
  {
   "cell_type": "code",
   "execution_count": 23,
   "metadata": {},
   "outputs": [],
   "source": [
    "def calculate_strength(string):\n",
    "    if 'J' in string:\n",
    "        if string.count(string[0]) == len(string):\n",
    "            return(6)\n",
    "        unique_symbols = set(string)\n",
    "        if len(unique_symbols) == 2:\n",
    "            return(6)\n",
    "        if len(unique_symbols) == 3:\n",
    "            for symbol in unique_symbols:\n",
    "                if string.count(symbol) == 3:\n",
    "                    return (5)\n",
    "        if len(unique_symbols) == 3:\n",
    "            if string.count('J') == 2:\n",
    "                return(5)\n",
    "            else:\n",
    "                return(4)\n",
    "        if len(unique_symbols) == 4:\n",
    "            return(3)\n",
    "        if len(unique_symbols) == 5:\n",
    "            return(1)\n",
    "    else:\n",
    "        if string.count(string[0]) == len(string):\n",
    "            return(6)\n",
    "        unique_symbols = set(string)\n",
    "        if len(unique_symbols) == 2:\n",
    "            for symbol in unique_symbols:\n",
    "                if string.count(symbol) == 4:\n",
    "                    return (5)\n",
    "        if len(unique_symbols) == 2:\n",
    "                if string.count(list(unique_symbols)[0]) == 3 and string.count(list(unique_symbols)[1]) == 2:\n",
    "                    return (4)\n",
    "                if string.count(list(unique_symbols)[1]) == 3 and string.count(list(unique_symbols)[0]) == 2:\n",
    "                    return (4)\n",
    "        if len(unique_symbols) == 3:\n",
    "            for symbol in unique_symbols:\n",
    "                if string.count(symbol) == 3:\n",
    "                    return (3)\n",
    "        if len(unique_symbols) == 3:\n",
    "            return (2)\n",
    "        if len(unique_symbols) == 4:\n",
    "            return (1)\n",
    "        if len(unique_symbols) == 5:\n",
    "            return (0)\n",
    "\n"
   ]
  },
  {
   "cell_type": "code",
   "execution_count": 24,
   "metadata": {},
   "outputs": [],
   "source": [
    "sort_key = lambda i: (\n",
    "    -df['strength'][i], \n",
    "    tuple(map(custom_order_mapping, df['cards'][i])) \n",
    ")\n",
    "\n",
    "df[\"strength\"] = df[\"cards\"].apply(lambda x: calculate_strength(x))\n",
    "df_sorted = df.iloc[sorted(range(len(df)), key=sort_key)]\n",
    "df_sorted_rank = df_sorted.copy()\n",
    "df_sorted_rank.loc[:, 'rank'] = range(len(df_sorted_rank), 0, -1)"
   ]
  },
  {
   "cell_type": "code",
   "execution_count": 25,
   "metadata": {},
   "outputs": [
    {
     "data": {
      "text/plain": [
       "248029057"
      ]
     },
     "execution_count": 25,
     "metadata": {},
     "output_type": "execute_result"
    }
   ],
   "source": [
    "sum(df_sorted_rank[\"rank\"] * df_sorted_rank[\"bid\"])"
   ]
  }
 ],
 "metadata": {
  "kernelspec": {
   "display_name": "myenv",
   "language": "python",
   "name": "python3"
  },
  "language_info": {
   "codemirror_mode": {
    "name": "ipython",
    "version": 3
   },
   "file_extension": ".py",
   "mimetype": "text/x-python",
   "name": "python",
   "nbconvert_exporter": "python",
   "pygments_lexer": "ipython3",
   "version": "3.10.7"
  }
 },
 "nbformat": 4,
 "nbformat_minor": 2
}
