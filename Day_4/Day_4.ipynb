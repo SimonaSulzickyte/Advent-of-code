{
 "cells": [
  {
   "cell_type": "code",
   "execution_count": 58,
   "metadata": {},
   "outputs": [],
   "source": [
    "import pandas as pd\n",
    "import re\n",
    "import numpy as np"
   ]
  },
  {
   "cell_type": "markdown",
   "metadata": {},
   "source": [
    "Part one"
   ]
  },
  {
   "cell_type": "code",
   "execution_count": 93,
   "metadata": {},
   "outputs": [],
   "source": [
    "df = pd.read_excel(\"input_1.xlsx\")"
   ]
  },
  {
   "cell_type": "code",
   "execution_count": 54,
   "metadata": {},
   "outputs": [],
   "source": [
    "total = 0\n",
    "for index, row in df.iterrows():\n",
    "    string = df[\"Results\"][index]\n",
    "    winning_numbers = re.findall(r'(?<=:)(.*?)(?=\\|)', string)\n",
    "    winning_numbers = winning_numbers[0].split()\n",
    "    available_numbers = re.findall(r'\\|(.+)', string)\n",
    "    available_numbers = available_numbers[0].split() \n",
    "    matching_numbers = set(available_numbers).intersection(winning_numbers)\n",
    "    if len(matching_numbers) > 0:\n",
    "        total += 2**(len(matching_numbers) - 1)"
   ]
  },
  {
   "cell_type": "code",
   "execution_count": null,
   "metadata": {},
   "outputs": [],
   "source": [
    "total"
   ]
  },
  {
   "cell_type": "markdown",
   "metadata": {},
   "source": [
    "Part two"
   ]
  },
  {
   "cell_type": "code",
   "execution_count": 94,
   "metadata": {},
   "outputs": [],
   "source": [
    "available_cards = pd.DataFrame({\n",
    "    'card' : np.arange(1, len(df) + 1, 1),\n",
    "    'quantity' : np.repeat(1, len(df))\n",
    "})"
   ]
  },
  {
   "cell_type": "code",
   "execution_count": 95,
   "metadata": {},
   "outputs": [],
   "source": [
    "for index, row in df.iterrows():\n",
    "    string = df[\"Results\"][index]\n",
    "    winning_numbers = re.findall(r'(?<=:)(.*?)(?=\\|)', string)\n",
    "    winning_numbers = winning_numbers[0].split()\n",
    "    available_numbers = re.findall(r'\\|(.+)', string)\n",
    "    available_numbers = available_numbers[0].split() \n",
    "    matching_numbers = set(available_numbers).intersection(winning_numbers)\n",
    "    if len(matching_numbers) == 0:\n",
    "        continue\n",
    "    copies = np.arange(1, len(matching_numbers) + 1, 1) + index + 1\n",
    "    for copy in copies:\n",
    "        available_cards[\"quantity\"].iloc[copy - 1] += 1 * available_cards[\"quantity\"].iloc[index]\n"
   ]
  },
  {
   "cell_type": "code",
   "execution_count": null,
   "metadata": {},
   "outputs": [],
   "source": [
    "sum(available_cards[\"quantity\"])"
   ]
  }
 ],
 "metadata": {
  "kernelspec": {
   "display_name": "myenv",
   "language": "python",
   "name": "python3"
  },
  "language_info": {
   "codemirror_mode": {
    "name": "ipython",
    "version": 3
   },
   "file_extension": ".py",
   "mimetype": "text/x-python",
   "name": "python",
   "nbconvert_exporter": "python",
   "pygments_lexer": "ipython3",
   "version": "3.10.7"
  }
 },
 "nbformat": 4,
 "nbformat_minor": 2
}
