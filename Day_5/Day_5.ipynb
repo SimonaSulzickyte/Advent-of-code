{
 "cells": [
  {
   "cell_type": "code",
   "execution_count": 7,
   "metadata": {},
   "outputs": [],
   "source": [
    "import pandas as pd\n",
    "from io import StringIO"
   ]
  },
  {
   "cell_type": "markdown",
   "metadata": {},
   "source": [
    "Part one"
   ]
  },
  {
   "cell_type": "code",
   "execution_count": 62,
   "metadata": {},
   "outputs": [],
   "source": [
    "seeds = open('seeds.txt', 'r').read().split()\n",
    "seeds = [int(x) for x in seeds]\n",
    "seed_to_soil_map = open('seed_to_soil_map.txt', 'r').read()\n",
    "seed_to_soil_map = pd.read_csv(StringIO(seed_to_soil_map), sep=' ', header=None, names = [\"destination_start\", \"source_start\", \"range\"])\n",
    "soil_to_fertilizer_map = open('soil_to_fertilizer_map.txt', 'r').read()\n",
    "soil_to_fertilizer_map = pd.read_csv(StringIO(soil_to_fertilizer_map), sep=' ', header=None, names = [\"destination_start\", \"source_start\", \"range\"])\n",
    "fertilizer_to_water_map = open('fertilizer_to_water_map.txt', 'r').read()\n",
    "fertilizer_to_water_map = pd.read_csv(StringIO(fertilizer_to_water_map), sep=' ', header=None, names = [\"destination_start\", \"source_start\", \"range\"])\n",
    "water_to_light_map = open('water_to_light_map.txt', 'r').read()\n",
    "water_to_light_map = pd.read_csv(StringIO(water_to_light_map), sep=' ', header=None, names = [\"destination_start\", \"source_start\", \"range\"])\n",
    "light_to_temperature_map = open('light_to_temperature_map.txt', 'r').read()\n",
    "light_to_temperature_map = pd.read_csv(StringIO(light_to_temperature_map), sep=' ', header=None, names = [\"destination_start\", \"source_start\", \"range\"])\n",
    "temperature_to_humidity_map = open('temperature_to_humidity_map.txt', 'r').read()\n",
    "temperature_to_humidity_map = pd.read_csv(StringIO(temperature_to_humidity_map), sep=' ', header=None, names = [\"destination_start\", \"source_start\", \"range\"])\n",
    "humidity_to_location_map = open('humidity_to_location_map.txt', 'r').read()\n",
    "humidity_to_location_map = pd.read_csv(StringIO(humidity_to_location_map), sep=' ', header=None, names = [\"destination_start\", \"source_start\", \"range\"])"
   ]
  },
  {
   "cell_type": "code",
   "execution_count": 63,
   "metadata": {},
   "outputs": [],
   "source": [
    "def convert(number, map):\n",
    "    map_filtered = map[(number >= map[\"source_start\"]) & (number <= map[\"source_start\"] +  map[\"range\"])]\n",
    "    if len(map_filtered) == 1:\n",
    "        converted_number = number + map_filtered[\"destination_start\"].iloc[0] - map_filtered[\"source_start\"].iloc[0]\n",
    "    else:\n",
    "        converted_number = number\n",
    "    return(converted_number)"
   ]
  },
  {
   "cell_type": "code",
   "execution_count": 64,
   "metadata": {},
   "outputs": [],
   "source": [
    "min_location = float('inf')\n",
    "for seed in seeds:\n",
    "    soil = convert(seed, seed_to_soil_map)\n",
    "    fertilizer = convert(soil, soil_to_fertilizer_map)\n",
    "    water = convert(fertilizer, fertilizer_to_water_map)\n",
    "    light = convert(water, water_to_light_map)\n",
    "    temperature = convert(light, light_to_temperature_map)\n",
    "    humidity = convert(temperature, temperature_to_humidity_map)\n",
    "    location = convert(humidity, humidity_to_location_map)\n",
    "    min_location = min(min_location, location)"
   ]
  },
  {
   "cell_type": "code",
   "execution_count": null,
   "metadata": {},
   "outputs": [],
   "source": [
    "min_location "
   ]
  }
 ],
 "metadata": {
  "kernelspec": {
   "display_name": "myenv",
   "language": "python",
   "name": "python3"
  },
  "language_info": {
   "codemirror_mode": {
    "name": "ipython",
    "version": 3
   },
   "file_extension": ".py",
   "mimetype": "text/x-python",
   "name": "python",
   "nbconvert_exporter": "python",
   "pygments_lexer": "ipython3",
   "version": "3.10.7"
  }
 },
 "nbformat": 4,
 "nbformat_minor": 2
}
