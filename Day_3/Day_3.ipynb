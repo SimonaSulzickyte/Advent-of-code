{
 "cells": [
  {
   "cell_type": "code",
   "execution_count": 1,
   "metadata": {},
   "outputs": [],
   "source": [
    "import pandas as pd\n",
    "import re"
   ]
  },
  {
   "cell_type": "markdown",
   "metadata": {},
   "source": [
    "Part one"
   ]
  },
  {
   "cell_type": "code",
   "execution_count": 90,
   "metadata": {},
   "outputs": [],
   "source": [
    "df = pd.read_excel(\"input_1.xlsx\")"
   ]
  },
  {
   "cell_type": "code",
   "execution_count": null,
   "metadata": {},
   "outputs": [],
   "source": [
    "total = 0 \n",
    "for index, row in df.iterrows():\n",
    "    string = df[\"schema\"][index]\n",
    "    numbers = re.compile(r'\\b\\d+\\b').findall(string)\n",
    "    matches = re.compile(r'\\b\\d+\\b').finditer(string)\n",
    "    indexes = [match.start() for match in matches]\n",
    "    for quantity in range(0, len(indexes)):\n",
    "        number_length = len(numbers[quantity])\n",
    "        starting_index = indexes[quantity]\n",
    "        if bool(re.compile(r'[^\\w\\s.]').search(string[max(starting_index - 1, 0):min(starting_index + number_length + 1, len(string) - 1)])) == True:\n",
    "            total += int(numbers[quantity])\n",
    "            continue\n",
    "        if bool(re.compile(r'[^\\w\\s.]').search(df[\"schema\"][max(index - 1, 0)][max(starting_index - 1, 0):min(starting_index + number_length + 1, len(df[\"schema\"][max(index - 1, 0)]) - 1)])) == True:\n",
    "            total += int(numbers[quantity])\n",
    "            continue\n",
    "        if bool(re.compile(r'[^\\w\\s.]').search(df[\"schema\"][min(index + 1, len(df) - 1)][max(starting_index - 1, 0):min(starting_index + number_length + 1, len(df[\"schema\"][min(index + 1, len(df) - 1)]) - 1)])) == True:\n",
    "            total += int(numbers[quantity]) \n",
    "            continue"
   ]
  },
  {
   "cell_type": "code",
   "execution_count": null,
   "metadata": {},
   "outputs": [],
   "source": [
    "total"
   ]
  },
  {
   "cell_type": "markdown",
   "metadata": {},
   "source": [
    "Part two"
   ]
  },
  {
   "cell_type": "code",
   "execution_count": 203,
   "metadata": {},
   "outputs": [],
   "source": [
    "total = 0 \n",
    "numbers_near_stars = pd.DataFrame(columns = ['number', 'star_line', 'star_index'])\n",
    "for index, row in df.iterrows():\n",
    "    string = df[\"schema\"][index]\n",
    "    numbers = re.compile(r'\\b\\d+\\b').findall(string)\n",
    "    matches = re.compile(r'\\b\\d+\\b').finditer(string)\n",
    "    indexes = [match.start() for match in matches]\n",
    "    for quantity in range(0, len(indexes)):\n",
    "        number_length = len(numbers[quantity])\n",
    "        starting_index = indexes[quantity]\n",
    "        if bool(re.compile(r'\\*').search(string[max(starting_index - 1, 0):min(starting_index + number_length + 1, len(string) - 1)])) == True:\n",
    "            star_index = string[max(starting_index - 1, 0):min(starting_index + number_length + 1, len(string) - 1)].find('*') + max(starting_index - 1, 0)\n",
    "            numbers_near_stars = pd.concat([numbers_near_stars,  pd.DataFrame({'number': numbers[quantity], 'star_line': [index], 'star_index': [star_index]})], ignore_index=True )\n",
    "            continue\n",
    "        if bool(re.compile(r'\\*').search(df[\"schema\"][max(index - 1, 0)][max(starting_index - 1, 0):min(starting_index + number_length + 1, len(df[\"schema\"][max(index - 1, 0)]) - 1)])) == True:\n",
    "            star_index = df[\"schema\"][max(index - 1, 0)][max(starting_index - 1, 0):min(starting_index + number_length + 1, len(df[\"schema\"][max(index - 1, 0)]) - 1)].find('*') + max(starting_index - 1, 0)\n",
    "            numbers_near_stars = pd.concat([numbers_near_stars,  pd.DataFrame({'number': numbers[quantity], 'star_line': [index - 1], 'star_index': [star_index]})], ignore_index=True )\n",
    "            continue\n",
    "        if bool(re.compile(r'\\*').search(df[\"schema\"][min(index + 1, len(df) - 1)][max(starting_index - 1, 0):min(starting_index + number_length + 1, len(df[\"schema\"][min(index + 1, len(df) - 1)]) - 1)])) == True:\n",
    "            star_index = df[\"schema\"][min(index + 1, len(df) - 1)][max(starting_index - 1, 0):min(starting_index + number_length + 1, len(df[\"schema\"][min(index + 1, len(df) - 1)]) - 1)].find('*') + max(starting_index - 1, 0)\n",
    "            numbers_near_stars = pd.concat([numbers_near_stars,  pd.DataFrame({'number': numbers[quantity], 'star_line': [index + 1], 'star_index': [star_index]})], ignore_index=True )\n",
    "            continue"
   ]
  },
  {
   "cell_type": "code",
   "execution_count": 204,
   "metadata": {},
   "outputs": [],
   "source": [
    "gears = numbers_near_stars.groupby(['star_line', 'star_index']).size().reset_index(name='count')\n",
    "gears = gears[gears['count'] == 2].drop(columns='count')\n",
    "gears = pd.merge(gears, numbers_near_stars, on=['star_line', 'star_index'], how='left')\n",
    "gears['number'] = pd.to_numeric(gears['number']) \n",
    "gears = gears.groupby(['star_line', 'star_index'])['number'].apply(lambda x: int(x.prod())).reset_index()\n",
    "sum(gears['number'])"
   ]
  }
 ],
 "metadata": {
  "kernelspec": {
   "display_name": "myenv",
   "language": "python",
   "name": "python3"
  },
  "language_info": {
   "codemirror_mode": {
    "name": "ipython",
    "version": 3
   },
   "file_extension": ".py",
   "mimetype": "text/x-python",
   "name": "python",
   "nbconvert_exporter": "python",
   "pygments_lexer": "ipython3",
   "version": "3.10.7"
  }
 },
 "nbformat": 4,
 "nbformat_minor": 2
}
